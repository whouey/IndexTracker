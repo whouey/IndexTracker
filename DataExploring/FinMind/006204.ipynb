{
 "cells": [
  {
   "cell_type": "code",
   "execution_count": 1,
   "metadata": {},
   "outputs": [],
   "source": [
    "import datetime\n",
    "import urllib.request\n",
    "import json\n",
    "import pandas as pd"
   ]
  },
  {
   "cell_type": "markdown",
   "metadata": {},
   "source": [
    "## FinMind\n",
    "The data of an ETF that tracking `TAIEX` is collected from a remarkable project call **FinMind**, a free and generous data source.\n",
    "\n",
    "check:  \n",
    "+ [Website](https://finmindtrade.com/)  \n",
    "+ [Github](https://github.com/FinMind/FinMind)"
   ]
  },
  {
   "cell_type": "code",
   "execution_count": 2,
   "metadata": {},
   "outputs": [],
   "source": [
    "ds = datetime.date(2021, 9, 22)\n",
    "\n",
    "url = \"https://api.finmindtrade.com/api/v4/data\"\n",
    "\n",
    "params = {\n",
    "    'dataset': 'TaiwanStockPriceTick',\n",
    "    'data_id': '006204',\n",
    "    'start_date': ds.strftime('%Y-%m-%d'),\n",
    "}"
   ]
  },
  {
   "cell_type": "code",
   "execution_count": 3,
   "metadata": {},
   "outputs": [
    {
     "data": {
      "text/plain": [
       "'https://api.finmindtrade.com/api/v4/data?dataset=TaiwanStockPriceTick&data_id=006204&start_date=2021-09-22'"
      ]
     },
     "execution_count": 3,
     "metadata": {},
     "output_type": "execute_result"
    }
   ],
   "source": [
    "def get_paramed_url(url:str, params:dict[str, str]) -> str:\n",
    "    \"\"\"\n",
    "    concat a url with parameters\n",
    "\n",
    "    args:\n",
    "        url - bare url\n",
    "        params - key-value pairs for parameters\n",
    "    return:\n",
    "        parametered url\n",
    "    \"\"\"\n",
    "    return url + '?{}'.format('&'.join([f'{k}={v}' for k, v in params.items()]))\n",
    "\n",
    "get_paramed_url(url, params)"
   ]
  },
  {
   "cell_type": "markdown",
   "metadata": {},
   "source": [
    "A simple get http request could do the trick.\n",
    "\n",
    "An unregistered connection could request 300 time per hour.  \n",
    "Fortunately, the usage of this project won't excess it.\n",
    "\n",
    "The data comes in json format."
   ]
  },
  {
   "cell_type": "code",
   "execution_count": 4,
   "metadata": {},
   "outputs": [
    {
     "data": {
      "text/plain": [
       "b'{\"msg\":\"success\",\"status\":200,\"data\":[{\"date\":\"2021-09-22\",\"stock_id\":\"006204\",\"deal_price\":90.1,\"volume\":1,\"Time\":\"09:00:11.161\",\"TickType\":1},{\"date\":\"2021-09-22\",\"stock_id\":\"006204\",\"deal_price\":90.0,\"volume\":10,\"Time\":\"13:20:24.969\",\"TickType\":1},{\"date\":\"2021-09-22\",\"stock_id\":\"006204\",\"deal_price\":90.0,\"volume\":10,\"Time\":\"13:20:26.038\",\"TickType\":1}]}'"
      ]
     },
     "execution_count": 4,
     "metadata": {},
     "output_type": "execute_result"
    }
   ],
   "source": [
    "res = urllib.request.urlopen(get_paramed_url(url, params))\n",
    "content = res.read()\n",
    "\n",
    "content"
   ]
  },
  {
   "cell_type": "code",
   "execution_count": 5,
   "metadata": {},
   "outputs": [
    {
     "data": {
      "text/plain": [
       "[{'date': '2021-09-22',\n",
       "  'stock_id': '006204',\n",
       "  'deal_price': 90.1,\n",
       "  'volume': 1,\n",
       "  'Time': '09:00:11.161',\n",
       "  'TickType': 1},\n",
       " {'date': '2021-09-22',\n",
       "  'stock_id': '006204',\n",
       "  'deal_price': 90.0,\n",
       "  'volume': 10,\n",
       "  'Time': '13:20:24.969',\n",
       "  'TickType': 1},\n",
       " {'date': '2021-09-22',\n",
       "  'stock_id': '006204',\n",
       "  'deal_price': 90.0,\n",
       "  'volume': 10,\n",
       "  'Time': '13:20:26.038',\n",
       "  'TickType': 1}]"
      ]
     },
     "execution_count": 5,
     "metadata": {},
     "output_type": "execute_result"
    }
   ],
   "source": [
    "json_obj = json.loads(content.decode('utf8'))\n",
    "data = json_obj['data']\n",
    "\n",
    "data"
   ]
  },
  {
   "cell_type": "markdown",
   "metadata": {},
   "source": [
    "make a pandas dataframe for easy organization and display"
   ]
  },
  {
   "cell_type": "code",
   "execution_count": 6,
   "metadata": {},
   "outputs": [
    {
     "data": {
      "text/html": [
       "<div>\n",
       "<style scoped>\n",
       "    .dataframe tbody tr th:only-of-type {\n",
       "        vertical-align: middle;\n",
       "    }\n",
       "\n",
       "    .dataframe tbody tr th {\n",
       "        vertical-align: top;\n",
       "    }\n",
       "\n",
       "    .dataframe thead th {\n",
       "        text-align: right;\n",
       "    }\n",
       "</style>\n",
       "<table border=\"1\" class=\"dataframe\">\n",
       "  <thead>\n",
       "    <tr style=\"text-align: right;\">\n",
       "      <th></th>\n",
       "      <th>date</th>\n",
       "      <th>stock_id</th>\n",
       "      <th>deal_price</th>\n",
       "      <th>volume</th>\n",
       "      <th>Time</th>\n",
       "      <th>TickType</th>\n",
       "    </tr>\n",
       "  </thead>\n",
       "  <tbody>\n",
       "    <tr>\n",
       "      <th>0</th>\n",
       "      <td>2021-09-22</td>\n",
       "      <td>006204</td>\n",
       "      <td>90.1</td>\n",
       "      <td>1</td>\n",
       "      <td>09:00:11.161</td>\n",
       "      <td>1</td>\n",
       "    </tr>\n",
       "    <tr>\n",
       "      <th>1</th>\n",
       "      <td>2021-09-22</td>\n",
       "      <td>006204</td>\n",
       "      <td>90.0</td>\n",
       "      <td>10</td>\n",
       "      <td>13:20:24.969</td>\n",
       "      <td>1</td>\n",
       "    </tr>\n",
       "    <tr>\n",
       "      <th>2</th>\n",
       "      <td>2021-09-22</td>\n",
       "      <td>006204</td>\n",
       "      <td>90.0</td>\n",
       "      <td>10</td>\n",
       "      <td>13:20:26.038</td>\n",
       "      <td>1</td>\n",
       "    </tr>\n",
       "  </tbody>\n",
       "</table>\n",
       "</div>"
      ],
      "text/plain": [
       "         date stock_id  deal_price  volume          Time  TickType\n",
       "0  2021-09-22   006204        90.1       1  09:00:11.161         1\n",
       "1  2021-09-22   006204        90.0      10  13:20:24.969         1\n",
       "2  2021-09-22   006204        90.0      10  13:20:26.038         1"
      ]
     },
     "execution_count": 6,
     "metadata": {},
     "output_type": "execute_result"
    }
   ],
   "source": [
    "df = pd.DataFrame(data)\n",
    "df"
   ]
  },
  {
   "cell_type": "markdown",
   "metadata": {},
   "source": [
    "merge date and time column, and take selected data"
   ]
  },
  {
   "cell_type": "code",
   "execution_count": 7,
   "metadata": {},
   "outputs": [
    {
     "data": {
      "text/html": [
       "<div>\n",
       "<style scoped>\n",
       "    .dataframe tbody tr th:only-of-type {\n",
       "        vertical-align: middle;\n",
       "    }\n",
       "\n",
       "    .dataframe tbody tr th {\n",
       "        vertical-align: top;\n",
       "    }\n",
       "\n",
       "    .dataframe thead th {\n",
       "        text-align: right;\n",
       "    }\n",
       "</style>\n",
       "<table border=\"1\" class=\"dataframe\">\n",
       "  <thead>\n",
       "    <tr style=\"text-align: right;\">\n",
       "      <th></th>\n",
       "      <th>datetime</th>\n",
       "      <th>stock_id</th>\n",
       "      <th>price</th>\n",
       "      <th>volume</th>\n",
       "    </tr>\n",
       "  </thead>\n",
       "  <tbody>\n",
       "    <tr>\n",
       "      <th>0</th>\n",
       "      <td>2021-09-22 09:00:11+08:00</td>\n",
       "      <td>006204</td>\n",
       "      <td>90.1</td>\n",
       "      <td>1</td>\n",
       "    </tr>\n",
       "    <tr>\n",
       "      <th>1</th>\n",
       "      <td>2021-09-22 13:20:24+08:00</td>\n",
       "      <td>006204</td>\n",
       "      <td>90.0</td>\n",
       "      <td>10</td>\n",
       "    </tr>\n",
       "    <tr>\n",
       "      <th>2</th>\n",
       "      <td>2021-09-22 13:20:26+08:00</td>\n",
       "      <td>006204</td>\n",
       "      <td>90.0</td>\n",
       "      <td>10</td>\n",
       "    </tr>\n",
       "  </tbody>\n",
       "</table>\n",
       "</div>"
      ],
      "text/plain": [
       "                   datetime stock_id  price  volume\n",
       "0 2021-09-22 09:00:11+08:00   006204   90.1       1\n",
       "1 2021-09-22 13:20:24+08:00   006204   90.0      10\n",
       "2 2021-09-22 13:20:26+08:00   006204   90.0      10"
      ]
     },
     "execution_count": 7,
     "metadata": {},
     "output_type": "execute_result"
    }
   ],
   "source": [
    "df['datetime'] = pd.to_datetime(df.date.str.strip() + df.Time.str.strip(), format='%Y-%m-%d%H:%M:%S.%f').dt.tz_localize('Asia/Taipei')\n",
    "df['datetime'] = df['datetime'].dt.floor('s')\n",
    "\n",
    "df = df[['datetime', 'stock_id', 'deal_price', 'volume']].rename(columns={'deal_price': 'price'})\n",
    "df"
   ]
  },
  {
   "cell_type": "code",
   "execution_count": null,
   "metadata": {},
   "outputs": [],
   "source": []
  }
 ],
 "metadata": {
  "interpreter": {
   "hash": "791503aaf06710fddbd6cb8b6733c7ecd63ab3fe8e9cccf86d648ff7629f760a"
  },
  "kernelspec": {
   "display_name": "Python 3.10.2 ('venv': venv)",
   "language": "python",
   "name": "python3"
  },
  "language_info": {
   "codemirror_mode": {
    "name": "ipython",
    "version": 3
   },
   "file_extension": ".py",
   "mimetype": "text/x-python",
   "name": "python",
   "nbconvert_exporter": "python",
   "pygments_lexer": "ipython3",
   "version": "3.10.2"
  },
  "orig_nbformat": 4
 },
 "nbformat": 4,
 "nbformat_minor": 2
}
