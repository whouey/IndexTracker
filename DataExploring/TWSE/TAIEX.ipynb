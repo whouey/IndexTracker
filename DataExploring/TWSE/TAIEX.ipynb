{
 "cells": [
  {
   "cell_type": "code",
   "execution_count": 1,
   "metadata": {},
   "outputs": [],
   "source": [
    "import pandas as pd\n",
    "import datetime\n",
    "import urllib.request"
   ]
  },
  {
   "cell_type": "code",
   "execution_count": 2,
   "metadata": {},
   "outputs": [
    {
     "data": {
      "text/plain": [
       "'https://www.twse.com.tw/exchangeReport/MI_5MINS_INDEX?response=csv&date=20211215'"
      ]
     },
     "execution_count": 2,
     "metadata": {},
     "output_type": "execute_result"
    }
   ],
   "source": [
    "url_template = 'https://www.twse.com.tw/exchangeReport/MI_5MINS_INDEX?response=csv&date={}'\n",
    "date = datetime.date(2021, 12, 15)\n",
    "\n",
    "url = url_template.format(date.strftime('%Y%m%d'))\n",
    "url"
   ]
  },
  {
   "cell_type": "code",
   "execution_count": 3,
   "metadata": {},
   "outputs": [],
   "source": [
    "res = urllib.request.urlopen(url)"
   ]
  },
  {
   "cell_type": "code",
   "execution_count": 4,
   "metadata": {},
   "outputs": [
    {
     "data": {
      "text/plain": [
       "<http.client.HTTPResponse at 0x240986b7ee0>"
      ]
     },
     "execution_count": 4,
     "metadata": {},
     "output_type": "execute_result"
    }
   ],
   "source": [
    "res"
   ]
  },
  {
   "cell_type": "code",
   "execution_count": 5,
   "metadata": {},
   "outputs": [
    {
     "data": {
      "text/plain": [
       "200"
      ]
     },
     "execution_count": 5,
     "metadata": {},
     "output_type": "execute_result"
    }
   ],
   "source": [
    "res.status"
   ]
  },
  {
   "cell_type": "code",
   "execution_count": 6,
   "metadata": {},
   "outputs": [
    {
     "data": {
      "text/plain": [
       "'text/csv;charset=ms950'"
      ]
     },
     "execution_count": 6,
     "metadata": {},
     "output_type": "execute_result"
    }
   ],
   "source": [
    "res.getheader(name=\"Content-Type\")"
   ]
  },
  {
   "cell_type": "code",
   "execution_count": 7,
   "metadata": {},
   "outputs": [],
   "source": [
    "content = res.read()"
   ]
  },
  {
   "cell_type": "code",
   "execution_count": 9,
   "metadata": {},
   "outputs": [
    {
     "data": {
      "text/html": [
       "<div>\n",
       "<style scoped>\n",
       "    .dataframe tbody tr th:only-of-type {\n",
       "        vertical-align: middle;\n",
       "    }\n",
       "\n",
       "    .dataframe tbody tr th {\n",
       "        vertical-align: top;\n",
       "    }\n",
       "\n",
       "    .dataframe thead th {\n",
       "        text-align: right;\n",
       "    }\n",
       "</style>\n",
       "<table border=\"1\" class=\"dataframe\">\n",
       "  <thead>\n",
       "    <tr style=\"text-align: right;\">\n",
       "      <th></th>\n",
       "      <th>datetime</th>\n",
       "      <th>index</th>\n",
       "    </tr>\n",
       "  </thead>\n",
       "  <tbody>\n",
       "    <tr>\n",
       "      <th>0</th>\n",
       "      <td>2021-12-15 09:00:00</td>\n",
       "      <td>17,599.37</td>\n",
       "    </tr>\n",
       "    <tr>\n",
       "      <th>1</th>\n",
       "      <td>2021-12-15 09:00:05</td>\n",
       "      <td>17,592.87</td>\n",
       "    </tr>\n",
       "    <tr>\n",
       "      <th>2</th>\n",
       "      <td>2021-12-15 09:00:10</td>\n",
       "      <td>17,585.06</td>\n",
       "    </tr>\n",
       "    <tr>\n",
       "      <th>3</th>\n",
       "      <td>2021-12-15 09:00:15</td>\n",
       "      <td>17,595.84</td>\n",
       "    </tr>\n",
       "    <tr>\n",
       "      <th>4</th>\n",
       "      <td>2021-12-15 09:00:20</td>\n",
       "      <td>17,583.76</td>\n",
       "    </tr>\n",
       "    <tr>\n",
       "      <th>...</th>\n",
       "      <td>...</td>\n",
       "      <td>...</td>\n",
       "    </tr>\n",
       "    <tr>\n",
       "      <th>3236</th>\n",
       "      <td>2021-12-15 13:29:40</td>\n",
       "      <td>17,631.21</td>\n",
       "    </tr>\n",
       "    <tr>\n",
       "      <th>3237</th>\n",
       "      <td>2021-12-15 13:29:45</td>\n",
       "      <td>17,631.21</td>\n",
       "    </tr>\n",
       "    <tr>\n",
       "      <th>3238</th>\n",
       "      <td>2021-12-15 13:29:50</td>\n",
       "      <td>17,631.21</td>\n",
       "    </tr>\n",
       "    <tr>\n",
       "      <th>3239</th>\n",
       "      <td>2021-12-15 13:29:55</td>\n",
       "      <td>17,631.21</td>\n",
       "    </tr>\n",
       "    <tr>\n",
       "      <th>3240</th>\n",
       "      <td>2021-12-15 13:30:00</td>\n",
       "      <td>17,660.10</td>\n",
       "    </tr>\n",
       "  </tbody>\n",
       "</table>\n",
       "<p>3241 rows × 2 columns</p>\n",
       "</div>"
      ],
      "text/plain": [
       "                datetime      index\n",
       "0    2021-12-15 09:00:00  17,599.37\n",
       "1    2021-12-15 09:00:05  17,592.87\n",
       "2    2021-12-15 09:00:10  17,585.06\n",
       "3    2021-12-15 09:00:15  17,595.84\n",
       "4    2021-12-15 09:00:20  17,583.76\n",
       "...                  ...        ...\n",
       "3236 2021-12-15 13:29:40  17,631.21\n",
       "3237 2021-12-15 13:29:45  17,631.21\n",
       "3238 2021-12-15 13:29:50  17,631.21\n",
       "3239 2021-12-15 13:29:55  17,631.21\n",
       "3240 2021-12-15 13:30:00  17,660.10\n",
       "\n",
       "[3241 rows x 2 columns]"
      ]
     },
     "execution_count": 9,
     "metadata": {},
     "output_type": "execute_result"
    }
   ],
   "source": [
    "arr_2d = [x.split('\\\",\\\"') for x in content.decode('big5').split('\\r\\n')[2:]]\n",
    "\n",
    "df = pd.DataFrame(arr_2d)\n",
    "df = df[[0,1]]\n",
    "df.columns = ['time', 'index']\n",
    "df = df.dropna()\n",
    "\n",
    "df['time'] = df.time.str.extract(r'.*(\\d{2}:\\d{2}:\\d{2}).*')\n",
    "\n",
    "ds = date.strftime('%Y-%m-%d ')\n",
    "df['datetime'] = pd.to_datetime(ds + df['time'])\n",
    "\n",
    "df[['datetime', 'index']]"
   ]
  },
  {
   "cell_type": "code",
   "execution_count": null,
   "metadata": {},
   "outputs": [],
   "source": []
  }
 ],
 "metadata": {
  "interpreter": {
   "hash": "791503aaf06710fddbd6cb8b6733c7ecd63ab3fe8e9cccf86d648ff7629f760a"
  },
  "kernelspec": {
   "display_name": "Python 3.10.2 ('venv': venv)",
   "language": "python",
   "name": "python3"
  },
  "language_info": {
   "codemirror_mode": {
    "name": "ipython",
    "version": 3
   },
   "file_extension": ".py",
   "mimetype": "text/x-python",
   "name": "python",
   "nbconvert_exporter": "python",
   "pygments_lexer": "ipython3",
   "version": "3.10.2"
  },
  "orig_nbformat": 4
 },
 "nbformat": 4,
 "nbformat_minor": 2
}
