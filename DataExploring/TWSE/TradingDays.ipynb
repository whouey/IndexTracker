{
 "cells": [
  {
   "cell_type": "markdown",
   "metadata": {},
   "source": []
  },
  {
   "cell_type": "code",
   "execution_count": null,
   "metadata": {},
   "outputs": [],
   "source": [
    "import datetime\n",
    "import requests\n",
    "import boto3\n",
    "import pandas as pd\n",
    "import io\n",
    "import re"
   ]
  },
  {
   "cell_type": "code",
   "execution_count": null,
   "metadata": {},
   "outputs": [],
   "source": [
    "url_template = 'https://www.twse.com.tw/holidaySchedule/holidaySchedule?response=csv&queryYear={}'\n",
    "filename_tamplate = 'holidaySchedule_{}.csv'\n",
    "\n",
    "def get_tw_year(year: int) -> int:\n",
    "    return year - 1911\n",
    "\n",
    "year = datetime.datetime.today().year\n",
    "tw_year = get_tw_year(year)\n",
    "\n",
    "url = url_template.format(tw_year)\n",
    "filename = filename_tamplate.format(tw_year)\n",
    "\n",
    "s3_bucket = 'indextracker'\n",
    "s3_key = f'tw/{filename}'"
   ]
  },
  {
   "cell_type": "markdown",
   "metadata": {},
   "source": [
    "## load data directly"
   ]
  },
  {
   "cell_type": "code",
   "execution_count": null,
   "metadata": {},
   "outputs": [],
   "source": [
    "def download_file(filepath, url):\n",
    "    with requests.get(url, stream=True) as response:\n",
    "        with open(filepath, 'wb') as f:\n",
    "            for content in response.iter_content():\n",
    "                f.write(content)\n",
    "\n",
    "# download_file(f'.\\{filename}', url)"
   ]
  },
  {
   "cell_type": "code",
   "execution_count": null,
   "metadata": {},
   "outputs": [],
   "source": [
    "def check_s3_key_exist(bucket, key):\n",
    "    from botocore.exceptions import ClientError\n",
    "    \n",
    "    try:\n",
    "        s3c = boto3.client('s3')\n",
    "        s3c.head_object(Bucket=bucket, Key=key)\n",
    "        return True\n",
    "    \n",
    "    except ClientError: # https://stackoverflow.com/a/42978638\n",
    "        return False\n",
    "\n",
    "# check_s3_key_exist(s3_bucket, s3_key)"
   ]
  },
  {
   "cell_type": "code",
   "execution_count": null,
   "metadata": {},
   "outputs": [],
   "source": [
    "def download_to_s3(bucket, key, url):\n",
    "    with requests.get(url, stream=True) as response:\n",
    "        s3c = boto3.client('s3')\n",
    "        s3c.upload_fileobj(response.raw, bucket, key)\n",
    "    \n",
    "# download_to_s3(s3_bucket, s3_key, url)"
   ]
  },
  {
   "cell_type": "code",
   "execution_count": null,
   "metadata": {},
   "outputs": [],
   "source": [
    "import urllib.request\n",
    "def download_to_s3(bucket, key, url):\n",
    "    with urllib.request.urlopen(url) as response:\n",
    "        s3c = boto3.client('s3')\n",
    "        s3c.upload_fileobj(response, bucket, key)\n",
    "    \n",
    "# download_to_s3(s3_bucket, s3_key, url)"
   ]
  },
  {
   "cell_type": "code",
   "execution_count": null,
   "metadata": {},
   "outputs": [],
   "source": [
    "content = requests.get(url).content.decode('big5').split('\\n')\n",
    "content"
   ]
  },
  {
   "cell_type": "code",
   "execution_count": null,
   "metadata": {},
   "outputs": [],
   "source": [
    "df:pd.DataFrame = pd.read_csv(io.StringIO('\\n'.join(content[1:])), encoding='big5')\n",
    "df"
   ]
  },
  {
   "cell_type": "code",
   "execution_count": null,
   "metadata": {},
   "outputs": [],
   "source": [
    "df.columns = ['name', 'date', 'weekday', 'description', 'memo']\n",
    "df"
   ]
  },
  {
   "cell_type": "code",
   "execution_count": null,
   "metadata": {},
   "outputs": [],
   "source": [
    "def extract_date(date_string, year) -> datetime.date:\n",
    "    m, d = re.search('(\\d+)月(\\d+)日', date_string).groups()\n",
    "    return datetime.date(year, int(m), int(d))\n",
    "    \n",
    "df['ds'] = df['date'].apply(extract_date, year=year)\n",
    "df['is_workday'] = df['memo'] =='o' \n",
    "\n",
    "df"
   ]
  },
  {
   "cell_type": "code",
   "execution_count": null,
   "metadata": {},
   "outputs": [],
   "source": [
    "makeup_days = pd.to_datetime(df[df['is_workday']].ds)\n",
    "holidays = pd.to_datetime(df[~df['is_workday']].ds)\n",
    "\n",
    "def is_trading_days(date: datetime.date) -> bool:\n",
    "    is_weekend = date.weekday() >=  5\n",
    "    is_holiday = (holidays == date).any()\n",
    "    is_makeup_day = (makeup_days == date).any()\n",
    "    \n",
    "    return (not is_weekend and not is_holiday) or is_makeup_day"
   ]
  },
  {
   "cell_type": "code",
   "execution_count": null,
   "metadata": {},
   "outputs": [],
   "source": [
    "first_day_of_year = datetime.date(year, 1, 1)\n",
    "last_day_of_year = datetime.date(year, 12, 31)\n",
    "# all_days = pd.date_range(first_day_of_year, last_day_of_year).tolist()[0].dayofweek # 0:mon ~ 6:sun\n",
    "all_days:pd.Series = pd.date_range(first_day_of_year, last_day_of_year).to_series()\n",
    "\n",
    "all_days[~all_days.apply(is_trading_days)]"
   ]
  },
  {
   "cell_type": "code",
   "execution_count": null,
   "metadata": {},
   "outputs": [],
   "source": []
  }
 ],
 "metadata": {
  "interpreter": {
   "hash": "2be5faf79681da6f2a61fdfdd5405d65d042280f7fba6178067603e3a2925119"
  },
  "kernelspec": {
   "display_name": "Python 3.10.2 64-bit",
   "language": "python",
   "name": "python3"
  },
  "language_info": {
   "codemirror_mode": {
    "name": "ipython",
    "version": 3
   },
   "file_extension": ".py",
   "mimetype": "text/x-python",
   "name": "python",
   "nbconvert_exporter": "python",
   "pygments_lexer": "ipython3",
   "version": "3.10.2"
  },
  "orig_nbformat": 4
 },
 "nbformat": 4,
 "nbformat_minor": 2
}
