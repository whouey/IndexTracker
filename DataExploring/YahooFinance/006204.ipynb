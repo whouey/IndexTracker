{
 "cells": [
  {
   "cell_type": "code",
   "execution_count": 3,
   "metadata": {},
   "outputs": [],
   "source": [
    "import yfinance as yf"
   ]
  },
  {
   "cell_type": "code",
   "execution_count": 9,
   "metadata": {},
   "outputs": [
    {
     "name": "stdout",
     "output_type": "stream",
     "text": [
      "[*********************100%***********************]  1 of 1 completed\n"
     ]
    },
    {
     "data": {
      "text/html": [
       "<div>\n",
       "<style scoped>\n",
       "    .dataframe tbody tr th:only-of-type {\n",
       "        vertical-align: middle;\n",
       "    }\n",
       "\n",
       "    .dataframe tbody tr th {\n",
       "        vertical-align: top;\n",
       "    }\n",
       "\n",
       "    .dataframe thead th {\n",
       "        text-align: right;\n",
       "    }\n",
       "</style>\n",
       "<table border=\"1\" class=\"dataframe\">\n",
       "  <thead>\n",
       "    <tr style=\"text-align: right;\">\n",
       "      <th></th>\n",
       "      <th>Open</th>\n",
       "      <th>High</th>\n",
       "      <th>Low</th>\n",
       "      <th>Close</th>\n",
       "      <th>Adj Close</th>\n",
       "      <th>Volume</th>\n",
       "    </tr>\n",
       "  </thead>\n",
       "  <tbody>\n",
       "    <tr>\n",
       "      <th>2021-12-15 09:00:00+08:00</th>\n",
       "      <td>88.199997</td>\n",
       "      <td>88.199997</td>\n",
       "      <td>87.900002</td>\n",
       "      <td>87.900002</td>\n",
       "      <td>87.900002</td>\n",
       "      <td>0</td>\n",
       "    </tr>\n",
       "    <tr>\n",
       "      <th>2021-12-15 10:00:00+08:00</th>\n",
       "      <td>88.300003</td>\n",
       "      <td>88.300003</td>\n",
       "      <td>88.300003</td>\n",
       "      <td>88.300003</td>\n",
       "      <td>88.300003</td>\n",
       "      <td>1005</td>\n",
       "    </tr>\n",
       "    <tr>\n",
       "      <th>2021-12-15 11:00:00+08:00</th>\n",
       "      <td>88.449997</td>\n",
       "      <td>88.449997</td>\n",
       "      <td>88.449997</td>\n",
       "      <td>88.449997</td>\n",
       "      <td>88.449997</td>\n",
       "      <td>1015</td>\n",
       "    </tr>\n",
       "    <tr>\n",
       "      <th>2021-12-15 12:00:00+08:00</th>\n",
       "      <td>88.550003</td>\n",
       "      <td>88.550003</td>\n",
       "      <td>88.449997</td>\n",
       "      <td>88.449997</td>\n",
       "      <td>88.449997</td>\n",
       "      <td>21000</td>\n",
       "    </tr>\n",
       "  </tbody>\n",
       "</table>\n",
       "</div>"
      ],
      "text/plain": [
       "                                Open       High        Low      Close  \\\n",
       "2021-12-15 09:00:00+08:00  88.199997  88.199997  87.900002  87.900002   \n",
       "2021-12-15 10:00:00+08:00  88.300003  88.300003  88.300003  88.300003   \n",
       "2021-12-15 11:00:00+08:00  88.449997  88.449997  88.449997  88.449997   \n",
       "2021-12-15 12:00:00+08:00  88.550003  88.550003  88.449997  88.449997   \n",
       "\n",
       "                           Adj Close  Volume  \n",
       "2021-12-15 09:00:00+08:00  87.900002       0  \n",
       "2021-12-15 10:00:00+08:00  88.300003    1005  \n",
       "2021-12-15 11:00:00+08:00  88.449997    1015  \n",
       "2021-12-15 12:00:00+08:00  88.449997   21000  "
      ]
     },
     "execution_count": 9,
     "metadata": {},
     "output_type": "execute_result"
    }
   ],
   "source": [
    "yf.download('006204.TW', start='2021-12-15', end='2021-12-16', interval='1h')"
   ]
  },
  {
   "cell_type": "code",
   "execution_count": null,
   "metadata": {},
   "outputs": [],
   "source": []
  }
 ],
 "metadata": {
  "interpreter": {
   "hash": "791503aaf06710fddbd6cb8b6733c7ecd63ab3fe8e9cccf86d648ff7629f760a"
  },
  "kernelspec": {
   "display_name": "Python 3.10.2 ('venv': venv)",
   "language": "python",
   "name": "python3"
  },
  "language_info": {
   "codemirror_mode": {
    "name": "ipython",
    "version": 3
   },
   "file_extension": ".py",
   "mimetype": "text/x-python",
   "name": "python",
   "nbconvert_exporter": "python",
   "pygments_lexer": "ipython3",
   "version": "3.10.2"
  },
  "orig_nbformat": 4
 },
 "nbformat": 4,
 "nbformat_minor": 2
}
