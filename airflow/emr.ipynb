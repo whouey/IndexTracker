{
 "cells": [
  {
   "cell_type": "code",
   "execution_count": 1,
   "metadata": {},
   "outputs": [],
   "source": [
    "import boto3"
   ]
  },
  {
   "cell_type": "code",
   "execution_count": 2,
   "metadata": {},
   "outputs": [],
   "source": [
    "emr = boto3.client('emr')"
   ]
  },
  {
   "cell_type": "code",
   "execution_count": 11,
   "metadata": {},
   "outputs": [],
   "source": [
    "JOB_FLOW = {\n",
    "    \"Name\": \"indextracker\",\n",
    "    \"ReleaseLabel\": \"emr-6.5.0\",\n",
    "    \"LogUri\": \"s3://indextracker/emr/logs/\",\n",
    "    \"Instances\": {\n",
    "        \"InstanceGroups\": [\n",
    "            {\n",
    "                \"Name\": \"Master nodes\",\n",
    "                \"Market\": \"ON_DEMAND\",\n",
    "                \"InstanceRole\": \"MASTER\",\n",
    "                \"InstanceType\": \"m5.xlarge\",\n",
    "                \"InstanceCount\": 1\n",
    "            },\n",
    "            {\n",
    "                \"Name\": \"Slave nodes\",\n",
    "                \"Market\": \"ON_DEMAND\",\n",
    "                \"InstanceRole\": \"CORE\",\n",
    "                \"InstanceType\": \"m5.xlarge\",\n",
    "                \"InstanceCount\": 2\n",
    "            }\n",
    "        ],\n",
    "        \"TerminationProtected\": False,\n",
    "        \"KeepJobFlowAliveWhenNoSteps\": False,\n",
    "    },\n",
    "    \n",
    "    \"ServiceRole\": \"EMR_DefaultRole\",\n",
    "    \"JobFlowRole\": \"EMR_EC2_DefaultRole\",\n",
    "\n",
    "    \"Applications\": [{\n",
    "        \"Name\": \"Spark\"\n",
    "    }],\n",
    "}\n",
    "\n",
    "STEPS = [\n",
    "   {\n",
    "       'Name': 'setup - copy files',\n",
    "       'ActionOnFailure': 'CANCEL_AND_WAIT',\n",
    "       'HadoopJarStep': {\n",
    "           'Jar': 'command-runner.jar',\n",
    "           'Args': ['aws', 's3', 'cp', '--recursive', \"s3://indextracker/emr/scripts/tw/\", '/home/hadoop/']\n",
    "       }\n",
    "   }\n",
    "]\n",
    "\n",
    "\n",
    "def get_steps(subject, ds):\n",
    "    return [\n",
    "        {\n",
    "            'Name': f'Run Spark {subject} raw {ds}',\n",
    "            'ActionOnFailure': 'CANCEL_AND_WAIT',\n",
    "            'HadoopJarStep': {\n",
    "                'Jar': 'command-runner.jar',\n",
    "                'Args': ['spark-submit', f'/home/hadoop/{subject}_raw.py', ds]\n",
    "            }\n",
    "        },\n",
    "        {\n",
    "            'Name': f'Run Spark {subject} agg {ds}',\n",
    "            'ActionOnFailure': 'CANCEL_AND_WAIT',\n",
    "            'HadoopJarStep': {\n",
    "                'Jar': 'command-runner.jar',\n",
    "                'Args': ['spark-submit', f'/home/hadoop/{subject}_agg.py', ds]\n",
    "            }\n",
    "        }\n",
    "    ]"
   ]
  },
  {
   "cell_type": "code",
   "execution_count": null,
   "metadata": {},
   "outputs": [],
   "source": []
  },
  {
   "cell_type": "code",
   "execution_count": null,
   "metadata": {},
   "outputs": [],
   "source": []
  },
  {
   "cell_type": "code",
   "execution_count": 4,
   "metadata": {},
   "outputs": [
    {
     "data": {
      "text/plain": [
       "{'JobFlowId': 'j-3BW5I1PI9KM50',\n",
       " 'ClusterArn': 'arn:aws:elasticmapreduce:us-east-1:633008848065:cluster/j-3BW5I1PI9KM50',\n",
       " 'ResponseMetadata': {'RequestId': '787ff4a0-7f09-46e4-a1bf-0d0ad11f7b49',\n",
       "  'HTTPStatusCode': 200,\n",
       "  'HTTPHeaders': {'x-amzn-requestid': '787ff4a0-7f09-46e4-a1bf-0d0ad11f7b49',\n",
       "   'content-type': 'application/x-amz-json-1.1',\n",
       "   'content-length': '118',\n",
       "   'date': 'Sat, 05 Mar 2022 07:28:44 GMT'},\n",
       "  'RetryAttempts': 0}}"
      ]
     },
     "execution_count": 4,
     "metadata": {},
     "output_type": "execute_result"
    }
   ],
   "source": [
    "emr.run_job_flow(**JOB_FLOW)"
   ]
  },
  {
   "cell_type": "code",
   "execution_count": 5,
   "metadata": {},
   "outputs": [],
   "source": [
    "lc_dict = emr.list_clusters()\n",
    "job_flow_id = next(x for x in lc_dict['Clusters'] if (x['Name'] == 'indextracker') and (x['Status'] != 'TERMINATED'))['Id']"
   ]
  },
  {
   "cell_type": "code",
   "execution_count": 12,
   "metadata": {},
   "outputs": [
    {
     "data": {
      "text/plain": [
       "{'StepIds': ['s-1PVNX48RHJV95'],\n",
       " 'ResponseMetadata': {'RequestId': 'fa9c79c1-f03d-4e7b-acb4-f38a6abb45af',\n",
       "  'HTTPStatusCode': 200,\n",
       "  'HTTPHeaders': {'x-amzn-requestid': 'fa9c79c1-f03d-4e7b-acb4-f38a6abb45af',\n",
       "   'content-type': 'application/x-amz-json-1.1',\n",
       "   'content-length': '31',\n",
       "   'date': 'Sat, 05 Mar 2022 07:40:14 GMT'},\n",
       "  'RetryAttempts': 0}}"
      ]
     },
     "execution_count": 12,
     "metadata": {},
     "output_type": "execute_result"
    }
   ],
   "source": [
    "emr.add_job_flow_steps(JobFlowId=job_flow_id, Steps=STEPS)"
   ]
  },
  {
   "cell_type": "code",
   "execution_count": 13,
   "metadata": {},
   "outputs": [],
   "source": [
    "for subject in ['futures', 'options', 'index', 'etf']:\n",
    "    emr.add_job_flow_steps(JobFlowId=job_flow_id, Steps=get_steps(subject, '2021_12_23'))"
   ]
  },
  {
   "cell_type": "code",
   "execution_count": null,
   "metadata": {},
   "outputs": [],
   "source": []
  },
  {
   "cell_type": "code",
   "execution_count": null,
   "metadata": {},
   "outputs": [],
   "source": []
  },
  {
   "cell_type": "markdown",
   "metadata": {},
   "source": [
    "{ \"region_name\" : \"us-east-1\" }"
   ]
  },
  {
   "cell_type": "code",
   "execution_count": 2,
   "metadata": {},
   "outputs": [
    {
     "data": {
      "text/plain": [
       "{'Name': 'indextracker',\n",
       " 'ReleaseLabel': 'emr-6.5.0',\n",
       " 'LogUri': 's3://indextracker/emr/logs/',\n",
       " 'Instances': {'InstanceGroups': [{'Name': 'Master nodes',\n",
       "    'Market': 'ON_DEMAND',\n",
       "    'InstanceRole': 'MASTER',\n",
       "    'InstanceType': 'm5.xlarge',\n",
       "    'InstanceCount': 1},\n",
       "   {'Name': 'Slave nodes',\n",
       "    'Market': 'ON_DEMAND',\n",
       "    'InstanceRole': 'CORE',\n",
       "    'InstanceType': 'm5.xlarge',\n",
       "    'InstanceCount': 2}],\n",
       "  'TerminationProtected': False,\n",
       "  'KeepJobFlowAliveWhenNoSteps': False},\n",
       " 'ServiceRole': 'EMR_DefaultRole',\n",
       " 'JobFlowRole': 'EMR_EC2_DefaultRole',\n",
       " 'Applications': [{'Name': 'Spark'}]}"
      ]
     },
     "execution_count": 2,
     "metadata": {},
     "output_type": "execute_result"
    }
   ],
   "source": [
    "import json\n",
    "\n",
    "steps = \"\"\"\n",
    "{\n",
    "    \"Name\": \"indextracker\",\n",
    "    \"ReleaseLabel\": \"emr-6.5.0\",\n",
    "    \"LogUri\": \"s3://indextracker/emr/logs/\",\n",
    "    \"Instances\": {\n",
    "        \"InstanceGroups\": [\n",
    "            {\n",
    "                \"Name\": \"Master nodes\",\n",
    "                \"Market\": \"ON_DEMAND\",\n",
    "                \"InstanceRole\": \"MASTER\",\n",
    "                \"InstanceType\": \"m5.xlarge\",\n",
    "                \"InstanceCount\": 1\n",
    "            },\n",
    "            {\n",
    "                \"Name\": \"Slave nodes\",\n",
    "                \"Market\": \"ON_DEMAND\",\n",
    "                \"InstanceRole\": \"CORE\",\n",
    "                \"InstanceType\": \"m5.xlarge\",\n",
    "                \"InstanceCount\": 2\n",
    "            }\n",
    "        ],\n",
    "        \"TerminationProtected\": false,\n",
    "        \"KeepJobFlowAliveWhenNoSteps\": false\n",
    "    },\n",
    "    \n",
    "    \"ServiceRole\": \"EMR_DefaultRole\",\n",
    "    \"JobFlowRole\": \"EMR_EC2_DefaultRole\",\n",
    "\n",
    "    \"Applications\": [\n",
    "        {\n",
    "            \"Name\": \"Spark\"\n",
    "        }\n",
    "    ]\n",
    "}\n",
    "\"\"\"\n",
    "\n",
    "json.loads(steps)"
   ]
  },
  {
   "cell_type": "code",
   "execution_count": null,
   "metadata": {},
   "outputs": [],
   "source": []
  }
 ],
 "metadata": {
  "interpreter": {
   "hash": "791503aaf06710fddbd6cb8b6733c7ecd63ab3fe8e9cccf86d648ff7629f760a"
  },
  "kernelspec": {
   "display_name": "Python 3.10.2 ('venv': venv)",
   "language": "python",
   "name": "python3"
  },
  "language_info": {
   "codemirror_mode": {
    "name": "ipython",
    "version": 3
   },
   "file_extension": ".py",
   "mimetype": "text/x-python",
   "name": "python",
   "nbconvert_exporter": "python",
   "pygments_lexer": "ipython3",
   "version": "3.10.2"
  },
  "orig_nbformat": 4
 },
 "nbformat": 4,
 "nbformat_minor": 2
}
