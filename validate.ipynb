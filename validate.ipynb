{
 "cells": [
  {
   "cell_type": "code",
   "execution_count": 1,
   "metadata": {},
   "outputs": [],
   "source": [
    "import psycopg2\n",
    "import pandas as pd\n",
    "import mplfinance as mpf"
   ]
  },
  {
   "cell_type": "code",
   "execution_count": 2,
   "metadata": {},
   "outputs": [
    {
     "data": {
      "text/plain": [
       "['resources.cfg']"
      ]
     },
     "execution_count": 2,
     "metadata": {},
     "output_type": "execute_result"
    }
   ],
   "source": [
    "import configparser\n",
    "cfg=configparser.ConfigParser()\n",
    "cfg.read('resources.cfg')"
   ]
  },
  {
   "cell_type": "markdown",
   "metadata": {},
   "source": [
    "The required parameters to connect to Redshift are:\n",
    "+ host\n",
    "+ port\n",
    "+ dbname\n",
    "+ user\n",
    "+ password\n",
    "\n",
    "The same as set in airflow connection variable."
   ]
  },
  {
   "cell_type": "code",
   "execution_count": 3,
   "metadata": {},
   "outputs": [],
   "source": [
    "conn = psycopg2.connect(**cfg['Redshift'])"
   ]
  },
  {
   "cell_type": "markdown",
   "metadata": {},
   "source": [
    "query the index history value of 2022-03-03 in the scale of 5 minutes."
   ]
  },
  {
   "cell_type": "code",
   "execution_count": 4,
   "metadata": {},
   "outputs": [],
   "source": [
    "sql_command = \"\"\"\n",
    "select * \n",
    "from index \n",
    "    join index_history on index.id = index_history.index_id \n",
    "where index.name = 'TAIEX' \n",
    "    and index_history.scale = 5 \n",
    "    and datetime between '2022-03-03' and '2022-03-04'\n",
    "order by index_history.datetime\n",
    "\"\"\""
   ]
  },
  {
   "cell_type": "code",
   "execution_count": 5,
   "metadata": {},
   "outputs": [
    {
     "data": {
      "text/html": [
       "<div>\n",
       "<style scoped>\n",
       "    .dataframe tbody tr th:only-of-type {\n",
       "        vertical-align: middle;\n",
       "    }\n",
       "\n",
       "    .dataframe tbody tr th {\n",
       "        vertical-align: top;\n",
       "    }\n",
       "\n",
       "    .dataframe thead th {\n",
       "        text-align: right;\n",
       "    }\n",
       "</style>\n",
       "<table border=\"1\" class=\"dataframe\">\n",
       "  <thead>\n",
       "    <tr style=\"text-align: right;\">\n",
       "      <th></th>\n",
       "      <th>0</th>\n",
       "      <th>1</th>\n",
       "      <th>2</th>\n",
       "      <th>3</th>\n",
       "      <th>4</th>\n",
       "      <th>5</th>\n",
       "      <th>6</th>\n",
       "      <th>7</th>\n",
       "      <th>8</th>\n",
       "      <th>9</th>\n",
       "      <th>10</th>\n",
       "      <th>11</th>\n",
       "    </tr>\n",
       "  </thead>\n",
       "  <tbody>\n",
       "    <tr>\n",
       "      <th>0</th>\n",
       "      <td>1</td>\n",
       "      <td>TAIEX</td>\n",
       "      <td>TW</td>\n",
       "      <td>1</td>\n",
       "      <td>5</td>\n",
       "      <td>2022-03-03 01:00:00</td>\n",
       "      <td>17867.60</td>\n",
       "      <td>17867.60</td>\n",
       "      <td>17867.60</td>\n",
       "      <td>17867.60</td>\n",
       "      <td>17867.600000</td>\n",
       "      <td>NaN</td>\n",
       "    </tr>\n",
       "    <tr>\n",
       "      <th>1</th>\n",
       "      <td>1</td>\n",
       "      <td>TAIEX</td>\n",
       "      <td>TW</td>\n",
       "      <td>1</td>\n",
       "      <td>5</td>\n",
       "      <td>2022-03-03 01:05:00</td>\n",
       "      <td>17932.15</td>\n",
       "      <td>18026.03</td>\n",
       "      <td>17932.15</td>\n",
       "      <td>17999.75</td>\n",
       "      <td>18005.540500</td>\n",
       "      <td>14.941853</td>\n",
       "    </tr>\n",
       "    <tr>\n",
       "      <th>2</th>\n",
       "      <td>1</td>\n",
       "      <td>TAIEX</td>\n",
       "      <td>TW</td>\n",
       "      <td>1</td>\n",
       "      <td>5</td>\n",
       "      <td>2022-03-03 01:10:00</td>\n",
       "      <td>18010.65</td>\n",
       "      <td>18012.56</td>\n",
       "      <td>17992.12</td>\n",
       "      <td>18000.68</td>\n",
       "      <td>18003.664833</td>\n",
       "      <td>4.311531</td>\n",
       "    </tr>\n",
       "    <tr>\n",
       "      <th>3</th>\n",
       "      <td>1</td>\n",
       "      <td>TAIEX</td>\n",
       "      <td>TW</td>\n",
       "      <td>1</td>\n",
       "      <td>5</td>\n",
       "      <td>2022-03-03 01:15:00</td>\n",
       "      <td>17986.74</td>\n",
       "      <td>17995.73</td>\n",
       "      <td>17960.87</td>\n",
       "      <td>17973.63</td>\n",
       "      <td>17979.172000</td>\n",
       "      <td>9.853270</td>\n",
       "    </tr>\n",
       "    <tr>\n",
       "      <th>4</th>\n",
       "      <td>1</td>\n",
       "      <td>TAIEX</td>\n",
       "      <td>TW</td>\n",
       "      <td>1</td>\n",
       "      <td>5</td>\n",
       "      <td>2022-03-03 01:20:00</td>\n",
       "      <td>17984.11</td>\n",
       "      <td>17993.24</td>\n",
       "      <td>17977.58</td>\n",
       "      <td>17977.58</td>\n",
       "      <td>17984.018667</td>\n",
       "      <td>4.216149</td>\n",
       "    </tr>\n",
       "  </tbody>\n",
       "</table>\n",
       "</div>"
      ],
      "text/plain": [
       "   0      1   2   3   4                   5         6         7         8   \\\n",
       "0   1  TAIEX  TW   1   5 2022-03-03 01:00:00  17867.60  17867.60  17867.60   \n",
       "1   1  TAIEX  TW   1   5 2022-03-03 01:05:00  17932.15  18026.03  17932.15   \n",
       "2   1  TAIEX  TW   1   5 2022-03-03 01:10:00  18010.65  18012.56  17992.12   \n",
       "3   1  TAIEX  TW   1   5 2022-03-03 01:15:00  17986.74  17995.73  17960.87   \n",
       "4   1  TAIEX  TW   1   5 2022-03-03 01:20:00  17984.11  17993.24  17977.58   \n",
       "\n",
       "         9             10         11  \n",
       "0  17867.60  17867.600000        NaN  \n",
       "1  17999.75  18005.540500  14.941853  \n",
       "2  18000.68  18003.664833   4.311531  \n",
       "3  17973.63  17979.172000   9.853270  \n",
       "4  17977.58  17984.018667   4.216149  "
      ]
     },
     "execution_count": 5,
     "metadata": {},
     "output_type": "execute_result"
    }
   ],
   "source": [
    "cur = conn.cursor()\n",
    "cur.execute(sql_command)\n",
    "df = pd.DataFrame(cur.fetchall())\n",
    "\n",
    "df.head()"
   ]
  },
  {
   "cell_type": "code",
   "execution_count": 6,
   "metadata": {},
   "outputs": [
    {
     "data": {
      "text/html": [
       "<div>\n",
       "<style scoped>\n",
       "    .dataframe tbody tr th:only-of-type {\n",
       "        vertical-align: middle;\n",
       "    }\n",
       "\n",
       "    .dataframe tbody tr th {\n",
       "        vertical-align: top;\n",
       "    }\n",
       "\n",
       "    .dataframe thead th {\n",
       "        text-align: right;\n",
       "    }\n",
       "</style>\n",
       "<table border=\"1\" class=\"dataframe\">\n",
       "  <thead>\n",
       "    <tr style=\"text-align: right;\">\n",
       "      <th></th>\n",
       "      <th>open</th>\n",
       "      <th>high</th>\n",
       "      <th>low</th>\n",
       "      <th>close</th>\n",
       "    </tr>\n",
       "    <tr>\n",
       "      <th>datetime</th>\n",
       "      <th></th>\n",
       "      <th></th>\n",
       "      <th></th>\n",
       "      <th></th>\n",
       "    </tr>\n",
       "  </thead>\n",
       "  <tbody>\n",
       "    <tr>\n",
       "      <th>2022-03-03 01:00:00</th>\n",
       "      <td>17867.60</td>\n",
       "      <td>17867.60</td>\n",
       "      <td>17867.60</td>\n",
       "      <td>17867.60</td>\n",
       "    </tr>\n",
       "    <tr>\n",
       "      <th>2022-03-03 01:05:00</th>\n",
       "      <td>17932.15</td>\n",
       "      <td>18026.03</td>\n",
       "      <td>17932.15</td>\n",
       "      <td>17999.75</td>\n",
       "    </tr>\n",
       "    <tr>\n",
       "      <th>2022-03-03 01:10:00</th>\n",
       "      <td>18010.65</td>\n",
       "      <td>18012.56</td>\n",
       "      <td>17992.12</td>\n",
       "      <td>18000.68</td>\n",
       "    </tr>\n",
       "    <tr>\n",
       "      <th>2022-03-03 01:15:00</th>\n",
       "      <td>17986.74</td>\n",
       "      <td>17995.73</td>\n",
       "      <td>17960.87</td>\n",
       "      <td>17973.63</td>\n",
       "    </tr>\n",
       "    <tr>\n",
       "      <th>2022-03-03 01:20:00</th>\n",
       "      <td>17984.11</td>\n",
       "      <td>17993.24</td>\n",
       "      <td>17977.58</td>\n",
       "      <td>17977.58</td>\n",
       "    </tr>\n",
       "  </tbody>\n",
       "</table>\n",
       "</div>"
      ],
      "text/plain": [
       "                         open      high       low     close\n",
       "datetime                                                   \n",
       "2022-03-03 01:00:00  17867.60  17867.60  17867.60  17867.60\n",
       "2022-03-03 01:05:00  17932.15  18026.03  17932.15  17999.75\n",
       "2022-03-03 01:10:00  18010.65  18012.56  17992.12  18000.68\n",
       "2022-03-03 01:15:00  17986.74  17995.73  17960.87  17973.63\n",
       "2022-03-03 01:20:00  17984.11  17993.24  17977.58  17977.58"
      ]
     },
     "execution_count": 6,
     "metadata": {},
     "output_type": "execute_result"
    }
   ],
   "source": [
    "df = df.iloc[:, 5:10]\n",
    "df.columns=['datetime', 'open', 'high', 'low', 'close']\n",
    "df = df.astype({'datetime': 'datetime64', 'open': 'double', 'high': 'double', 'low': 'double', 'close': 'double'})\n",
    "df = df.set_index('datetime')\n",
    "\n",
    "df.head()"
   ]
  },
  {
   "cell_type": "markdown",
   "metadata": {},
   "source": [
    "The most simple way to draw basic candle stick diagram is using [`mplfinance`](https://github.com/matplotlib/mplfinance) IMO."
   ]
  },
  {
   "cell_type": "code",
   "execution_count": 7,
   "metadata": {},
   "outputs": [
    {
     "data": {
      "image/png": "[encoded data removed]",
      "text/plain": [
       "<Figure size 800x575 with 2 Axes>"
      ]
     },
     "metadata": {},
     "output_type": "display_data"
    }
   ],
   "source": [
    "mpf.plot(df, type='candle', style='yahoo')"
   ]
  },
  {
   "cell_type": "markdown",
   "metadata": {},
   "source": [
    "To query history data on 2022-03-07 of a derivative contract in 15 minutes scale, alone with volume."
   ]
  },
  {
   "cell_type": "code",
   "execution_count": 8,
   "metadata": {},
   "outputs": [],
   "source": [
    "sql_command2 = \"\"\"\n",
    "select ddh.datetime, ddh.price_open, ddh.price_high, ddh.price_low, ddh.price_close, ddh.volume \n",
    "from derivative d \n",
    "    join derivative_detail dd on dd.derivative_id = d.id \n",
    "    join derivative_detail_history ddh on ddh.derivative_detail_id = dd.id \n",
    "where d.name = 'TX' \n",
    "    and dd.expire_code = 'M' \n",
    "    and ddh.scale = 15 \n",
    "    and ddh.datetime between '2022-03-07' and '2022-03-08'\n",
    "order by ddh.datetime\n",
    "\"\"\""
   ]
  },
  {
   "cell_type": "code",
   "execution_count": 9,
   "metadata": {},
   "outputs": [
    {
     "data": {
      "text/html": [
       "<div>\n",
       "<style scoped>\n",
       "    .dataframe tbody tr th:only-of-type {\n",
       "        vertical-align: middle;\n",
       "    }\n",
       "\n",
       "    .dataframe tbody tr th {\n",
       "        vertical-align: top;\n",
       "    }\n",
       "\n",
       "    .dataframe thead th {\n",
       "        text-align: right;\n",
       "    }\n",
       "</style>\n",
       "<table border=\"1\" class=\"dataframe\">\n",
       "  <thead>\n",
       "    <tr style=\"text-align: right;\">\n",
       "      <th></th>\n",
       "      <th>0</th>\n",
       "      <th>1</th>\n",
       "      <th>2</th>\n",
       "      <th>3</th>\n",
       "      <th>4</th>\n",
       "      <th>5</th>\n",
       "    </tr>\n",
       "  </thead>\n",
       "  <tbody>\n",
       "    <tr>\n",
       "      <th>0</th>\n",
       "      <td>2022-03-07 00:45:00</td>\n",
       "      <td>17362.00</td>\n",
       "      <td>17363.00</td>\n",
       "      <td>17327.00</td>\n",
       "      <td>17353.00</td>\n",
       "      <td>3064</td>\n",
       "    </tr>\n",
       "    <tr>\n",
       "      <th>1</th>\n",
       "      <td>2022-03-07 01:00:00</td>\n",
       "      <td>17340.00</td>\n",
       "      <td>17405.00</td>\n",
       "      <td>17312.00</td>\n",
       "      <td>17358.00</td>\n",
       "      <td>25064</td>\n",
       "    </tr>\n",
       "    <tr>\n",
       "      <th>2</th>\n",
       "      <td>2022-03-07 01:15:00</td>\n",
       "      <td>17359.00</td>\n",
       "      <td>17385.00</td>\n",
       "      <td>17233.00</td>\n",
       "      <td>17239.00</td>\n",
       "      <td>42204</td>\n",
       "    </tr>\n",
       "    <tr>\n",
       "      <th>3</th>\n",
       "      <td>2022-03-07 01:30:00</td>\n",
       "      <td>17236.00</td>\n",
       "      <td>17252.00</td>\n",
       "      <td>17174.00</td>\n",
       "      <td>17205.00</td>\n",
       "      <td>29780</td>\n",
       "    </tr>\n",
       "    <tr>\n",
       "      <th>4</th>\n",
       "      <td>2022-03-07 01:45:00</td>\n",
       "      <td>17208.00</td>\n",
       "      <td>17242.00</td>\n",
       "      <td>17128.00</td>\n",
       "      <td>17130.00</td>\n",
       "      <td>28484</td>\n",
       "    </tr>\n",
       "  </tbody>\n",
       "</table>\n",
       "</div>"
      ],
      "text/plain": [
       "                    0         1         2         3         4      5\n",
       "0 2022-03-07 00:45:00  17362.00  17363.00  17327.00  17353.00   3064\n",
       "1 2022-03-07 01:00:00  17340.00  17405.00  17312.00  17358.00  25064\n",
       "2 2022-03-07 01:15:00  17359.00  17385.00  17233.00  17239.00  42204\n",
       "3 2022-03-07 01:30:00  17236.00  17252.00  17174.00  17205.00  29780\n",
       "4 2022-03-07 01:45:00  17208.00  17242.00  17128.00  17130.00  28484"
      ]
     },
     "execution_count": 9,
     "metadata": {},
     "output_type": "execute_result"
    }
   ],
   "source": [
    "cur = conn.cursor()\n",
    "cur.execute(sql_command2)\n",
    "df = pd.DataFrame(cur.fetchall())\n",
    "\n",
    "df.head()"
   ]
  },
  {
   "cell_type": "code",
   "execution_count": 10,
   "metadata": {},
   "outputs": [
    {
     "data": {
      "text/html": [
       "<div>\n",
       "<style scoped>\n",
       "    .dataframe tbody tr th:only-of-type {\n",
       "        vertical-align: middle;\n",
       "    }\n",
       "\n",
       "    .dataframe tbody tr th {\n",
       "        vertical-align: top;\n",
       "    }\n",
       "\n",
       "    .dataframe thead th {\n",
       "        text-align: right;\n",
       "    }\n",
       "</style>\n",
       "<table border=\"1\" class=\"dataframe\">\n",
       "  <thead>\n",
       "    <tr style=\"text-align: right;\">\n",
       "      <th></th>\n",
       "      <th>open</th>\n",
       "      <th>high</th>\n",
       "      <th>low</th>\n",
       "      <th>close</th>\n",
       "      <th>volume</th>\n",
       "    </tr>\n",
       "    <tr>\n",
       "      <th>datetime</th>\n",
       "      <th></th>\n",
       "      <th></th>\n",
       "      <th></th>\n",
       "      <th></th>\n",
       "      <th></th>\n",
       "    </tr>\n",
       "  </thead>\n",
       "  <tbody>\n",
       "    <tr>\n",
       "      <th>2022-03-07 00:45:00</th>\n",
       "      <td>17362.0</td>\n",
       "      <td>17363.0</td>\n",
       "      <td>17327.0</td>\n",
       "      <td>17353.0</td>\n",
       "      <td>3064</td>\n",
       "    </tr>\n",
       "    <tr>\n",
       "      <th>2022-03-07 01:00:00</th>\n",
       "      <td>17340.0</td>\n",
       "      <td>17405.0</td>\n",
       "      <td>17312.0</td>\n",
       "      <td>17358.0</td>\n",
       "      <td>25064</td>\n",
       "    </tr>\n",
       "    <tr>\n",
       "      <th>2022-03-07 01:15:00</th>\n",
       "      <td>17359.0</td>\n",
       "      <td>17385.0</td>\n",
       "      <td>17233.0</td>\n",
       "      <td>17239.0</td>\n",
       "      <td>42204</td>\n",
       "    </tr>\n",
       "    <tr>\n",
       "      <th>2022-03-07 01:30:00</th>\n",
       "      <td>17236.0</td>\n",
       "      <td>17252.0</td>\n",
       "      <td>17174.0</td>\n",
       "      <td>17205.0</td>\n",
       "      <td>29780</td>\n",
       "    </tr>\n",
       "    <tr>\n",
       "      <th>2022-03-07 01:45:00</th>\n",
       "      <td>17208.0</td>\n",
       "      <td>17242.0</td>\n",
       "      <td>17128.0</td>\n",
       "      <td>17130.0</td>\n",
       "      <td>28484</td>\n",
       "    </tr>\n",
       "  </tbody>\n",
       "</table>\n",
       "</div>"
      ],
      "text/plain": [
       "                        open     high      low    close  volume\n",
       "datetime                                                       \n",
       "2022-03-07 00:45:00  17362.0  17363.0  17327.0  17353.0    3064\n",
       "2022-03-07 01:00:00  17340.0  17405.0  17312.0  17358.0   25064\n",
       "2022-03-07 01:15:00  17359.0  17385.0  17233.0  17239.0   42204\n",
       "2022-03-07 01:30:00  17236.0  17252.0  17174.0  17205.0   29780\n",
       "2022-03-07 01:45:00  17208.0  17242.0  17128.0  17130.0   28484"
      ]
     },
     "execution_count": 10,
     "metadata": {},
     "output_type": "execute_result"
    }
   ],
   "source": [
    "df.columns=['datetime', 'open', 'high', 'low', 'close', 'volume']\n",
    "df = df.astype({'datetime': 'datetime64', 'open': 'double', 'high': 'double', 'low': 'double', 'close': 'double', 'volume': 'int'})\n",
    "df = df.set_index('datetime')\n",
    "\n",
    "df.head()"
   ]
  },
  {
   "cell_type": "code",
   "execution_count": 11,
   "metadata": {},
   "outputs": [
    {
     "data": {
      "image/png": "[encoded data removed]",
      "text/plain": [
       "<Figure size 800x575 with 4 Axes>"
      ]
     },
     "metadata": {},
     "output_type": "display_data"
    }
   ],
   "source": [
    "mpf.plot(df, type='candle', style='yahoo', volume=True)"
   ]
  }
 ],
 "metadata": {
  "interpreter": {
   "hash": "791503aaf06710fddbd6cb8b6733c7ecd63ab3fe8e9cccf86d648ff7629f760a"
  },
  "kernelspec": {
   "display_name": "Python 3.10.2 ('venv': venv)",
   "language": "python",
   "name": "python3"
  },
  "language_info": {
   "codemirror_mode": {
    "name": "ipython",
    "version": 3
   },
   "file_extension": ".py",
   "mimetype": "text/x-python",
   "name": "python",
   "nbconvert_exporter": "python",
   "pygments_lexer": "ipython3",
   "version": "3.10.2"
  },
  "orig_nbformat": 4
 },
 "nbformat": 4,
 "nbformat_minor": 2
}
